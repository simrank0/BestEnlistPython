{
 "cells": [
  {
   "cell_type": "markdown",
   "metadata": {},
   "source": [
    "# Day 6 – TASK"
   ]
  },
  {
   "cell_type": "markdown",
   "metadata": {},
   "source": [
    "### Write a program to loop through a list of numbers and add +2 to every value to elements in list"
   ]
  },
  {
   "cell_type": "code",
   "execution_count": 1,
   "metadata": {},
   "outputs": [
    {
     "name": "stdout",
     "output_type": "stream",
     "text": [
      "[4, 7.5, 14, 2, 26, 345]\n"
     ]
    }
   ],
   "source": [
    "l = [2, 5.5, 12, 0, 24, 343]\n",
    "l = [i+2 for i in l]\n",
    "print(l)"
   ]
  },
  {
   "cell_type": "markdown",
   "metadata": {},
   "source": [
    "### •\tWrite a program to get the below pattern\n",
    "\n",
    "54321\n",
    "\n",
    "4321\n",
    "\n",
    "321\n",
    "\n",
    "21\n",
    "\n",
    "1\n"
   ]
  },
  {
   "cell_type": "code",
   "execution_count": 2,
   "metadata": {},
   "outputs": [
    {
     "name": "stdout",
     "output_type": "stream",
     "text": [
      "54321\n",
      "4321\n",
      "321\n",
      "21\n",
      "1\n"
     ]
    }
   ],
   "source": [
    "for i in range(5, 0, -1):\n",
    "    for j in range(i, 0, -1):\n",
    "        print(j, end='')\n",
    "    print()"
   ]
  },
  {
   "cell_type": "markdown",
   "metadata": {},
   "source": [
    "### Python Program to Print the Fibonacci sequence"
   ]
  },
  {
   "cell_type": "code",
   "execution_count": 3,
   "metadata": {},
   "outputs": [
    {
     "name": "stdout",
     "output_type": "stream",
     "text": [
      "Enter till where you want to print the sequence: 10\n",
      "0 1 1 2 3 5 8 13 21 34 55 89 "
     ]
    }
   ],
   "source": [
    "x = 0\n",
    "y = 1\n",
    "till = int(input(\"Enter till where you want to print the sequence: \"))\n",
    "print(x, y, end=' ')\n",
    "for i in range(till):\n",
    "    z = x + y\n",
    "    print(z, end=' ')\n",
    "    x = y\n",
    "    y = z"
   ]
  },
  {
   "cell_type": "markdown",
   "metadata": {},
   "source": [
    "### Explain Armstrong number and write a code with a function"
   ]
  },
  {
   "cell_type": "markdown",
   "metadata": {},
   "source": [
    "Armstrong number is a number that is equal to the sum of cubes of its digits. For example 0, 1, 153, 370, 371 and 407 are the Armstrong numbers."
   ]
  },
  {
   "cell_type": "code",
   "execution_count": 4,
   "metadata": {},
   "outputs": [
    {
     "name": "stdout",
     "output_type": "stream",
     "text": [
      "cube = 27\n",
      "cube = 152\n",
      "cube = 153\n",
      "Armstrong Number\n",
      "\n",
      "cube = 27\n",
      "cube = 35\n",
      "Not an Armstrong Number\n",
      "\n"
     ]
    }
   ],
   "source": [
    "def isArmstrong(num):\n",
    "    temp = num\n",
    "    cube = 0\n",
    "    while(temp!=0):\n",
    "        cube+= (temp%10)**3\n",
    "        print(\"cube =\", cube)\n",
    "        temp//=10\n",
    "    if cube == num:\n",
    "        print(\"Armstrong Number\")\n",
    "    else:\n",
    "        print(\"Not an Armstrong Number\")\n",
    "    print()\n",
    "\n",
    "isArmstrong(153)\n",
    "isArmstrong(23)"
   ]
  },
  {
   "cell_type": "markdown",
   "metadata": {},
   "source": [
    "### Write a program to print the multiplication table of 9"
   ]
  },
  {
   "cell_type": "code",
   "execution_count": 5,
   "metadata": {},
   "outputs": [
    {
     "name": "stdout",
     "output_type": "stream",
     "text": [
      "9 * 1 = 9\n",
      "9 * 2 = 18\n",
      "9 * 3 = 27\n",
      "9 * 4 = 36\n",
      "9 * 5 = 45\n",
      "9 * 6 = 54\n",
      "9 * 7 = 63\n",
      "9 * 8 = 72\n",
      "9 * 9 = 81\n",
      "9 * 10 = 90\n"
     ]
    }
   ],
   "source": [
    "def table_of_9():\n",
    "    for i in range(1, 11):\n",
    "        print(\"9 *\",i,\"=\",9*i)\n",
    "table_of_9()"
   ]
  },
  {
   "cell_type": "markdown",
   "metadata": {},
   "source": [
    "### Check if a number is negative or positive"
   ]
  },
  {
   "cell_type": "code",
   "execution_count": 6,
   "metadata": {},
   "outputs": [
    {
     "name": "stdout",
     "output_type": "stream",
     "text": [
      "Enter a number-3\n",
      "-3 negative number\n",
      "0 is a positive number\n",
      "-4 negative number\n",
      "2 is a positive number\n"
     ]
    }
   ],
   "source": [
    "def Neg_or_Pos(num):\n",
    "    if num>=0:\n",
    "        print(num,\"is a positive number\")\n",
    "    else:\n",
    "        print(num,\"negative number\")\n",
    "\n",
    "num = int(input(\"Enter a number\"))\n",
    "Neg_or_Pos(num)\n",
    "Neg_or_Pos(0)\n",
    "Neg_or_Pos(-4)\n",
    "Neg_or_Pos(2)"
   ]
  },
  {
   "cell_type": "markdown",
   "metadata": {},
   "source": [
    "### Write a program to convert the number of days to ages"
   ]
  },
  {
   "cell_type": "code",
   "execution_count": 7,
   "metadata": {},
   "outputs": [
    {
     "name": "stdout",
     "output_type": "stream",
     "text": [
      "You are 5 years, 5 months 15 days old\n"
     ]
    }
   ],
   "source": [
    "def age(days):\n",
    "    years = days//365\n",
    "    days = days%365\n",
    "    months = days//30\n",
    "    days = days%30\n",
    "    print(\"You are\", years, \"years,\", months, \"months\", days, \"days old\")\n",
    "age(365*5+30*4+45)"
   ]
  },
  {
   "cell_type": "markdown",
   "metadata": {},
   "source": [
    "### Solve Trigonometry problem using math function write a program to solve using math function"
   ]
  },
  {
   "cell_type": "code",
   "execution_count": 8,
   "metadata": {},
   "outputs": [
    {
     "name": "stdout",
     "output_type": "stream",
     "text": [
      "Sin 30 + Cos 30 =  1.3660254037844386\n"
     ]
    }
   ],
   "source": [
    "import math\n",
    "\n",
    "print(\"Sin 30 + Cos 30 = \", math.sin(math.radians(30)) + math.cos(math.radians(30)))"
   ]
  },
  {
   "cell_type": "markdown",
   "metadata": {},
   "source": [
    "### Create a calculator only on a code level by using if condition (Basic arithmetic calculation)"
   ]
  },
  {
   "cell_type": "code",
   "execution_count": 10,
   "metadata": {},
   "outputs": [
    {
     "name": "stdout",
     "output_type": "stream",
     "text": [
      "Enter number 1: 23\n",
      "Enter number 2: 13\n",
      "Choose what you want to do: \n",
      "1.Addition \n",
      "2.Subtraction \n",
      "3.Division \n",
      "4.Multiplication \n",
      "3\n",
      "23 / 13 = 1\n"
     ]
    }
   ],
   "source": [
    "num1 = int(input(\"Enter number 1: \"))\n",
    "num2 = int(input(\"Enter number 2: \"))\n",
    "choice = int(input(\"Choose what you want to do: \\n1.Addition \\n2.Subtraction \\n3.Division \\n4.Multiplication \\n\"))\n",
    "if(choice==1):\n",
    "    print(num1, \"+\", num2, \"=\", num1+num2)\n",
    "elif(choice==2):\n",
    "    print(num1, \"-\", num2, \"=\", num1-num2)\n",
    "elif(choice==3):\n",
    "    print(num1, \"/\", num2, \"=\", num1//num2)\n",
    "elif(choice==4):\n",
    "    print(num1, \"*\", num2, \"=\", num1*num2)\n",
    "else:\n",
    "    print(\"Wrong choice\")"
   ]
  }
 ],
 "metadata": {
  "kernelspec": {
   "display_name": "Python 3",
   "language": "python",
   "name": "python3"
  },
  "language_info": {
   "codemirror_mode": {
    "name": "ipython",
    "version": 3
   },
   "file_extension": ".py",
   "mimetype": "text/x-python",
   "name": "python",
   "nbconvert_exporter": "python",
   "pygments_lexer": "ipython3",
   "version": "3.8.5"
  }
 },
 "nbformat": 4,
 "nbformat_minor": 4
}
