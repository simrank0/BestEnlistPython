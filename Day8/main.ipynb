{
 "cells": [
  {
   "cell_type": "markdown",
   "metadata": {},
   "source": [
    "# Day 8 –Exception Handling"
   ]
  },
  {
   "cell_type": "markdown",
   "metadata": {},
   "source": [
    "## Exercise:\n",
    "\n",
    "### List down all the error types and check all the errors using a python program for all errors\n"
   ]
  },
  {
   "cell_type": "markdown",
   "metadata": {},
   "source": [
    "Error Types:\n",
    "1. Syntax Errors\n",
    "2. Variable Name Errors\n",
    "3. Index Errors\n",
    "4. File Errors"
   ]
  },
  {
   "cell_type": "code",
   "execution_count": 1,
   "metadata": {},
   "outputs": [
    {
     "name": "stdout",
     "output_type": "stream",
     "text": [
      "Enter an integer which is not 0: 0\n",
      "Exception occured!!\n"
     ]
    }
   ],
   "source": [
    "try:\n",
    "    a = int(input(\"Enter an integer which is not 0: \"))\n",
    "    b = 10/a\n",
    "    print(b)\n",
    "    print(\"No exceptions occured!\")\n",
    "except:\n",
    "    print(\"Exception occured!!\")"
   ]
  },
  {
   "cell_type": "markdown",
   "metadata": {},
   "source": [
    "### Design a simple calculator app with try and except for all use cases"
   ]
  },
  {
   "cell_type": "code",
   "execution_count": 8,
   "metadata": {},
   "outputs": [
    {
     "name": "stdout",
     "output_type": "stream",
     "text": [
      "Select operation.\n",
      "1.Add\n",
      "2.Subtract\n",
      "3.Multiply\n",
      "4.Divide\n",
      "Enter your choice: a\n",
      "invalid literal for int() with base 10: 'a'\n",
      "division by zero\n"
     ]
    }
   ],
   "source": [
    "# Simple calculator\n",
    "\n",
    "def add(x, y):\n",
    "    return x + y\n",
    "\n",
    "def subtract(x, y):\n",
    "    return x - y\n",
    "\n",
    "def divide(x, y):\n",
    "    return x / y\n",
    "\n",
    "def multiply(x, y):\n",
    "    return x * y\n",
    "\n",
    "print(\"Select operation.\")\n",
    "print(\"1.Add\")\n",
    "print(\"2.Subtract\")\n",
    "print(\"3.Multiply\")\n",
    "print(\"4.Divide\")\n",
    "\n",
    "try:\n",
    "    c = int(input(\"Enter your choice: \"))\n",
    "    a = int(input(\"Enter a number: \"))\n",
    "    b = int(input(\"Enter second number: \"))\n",
    "except Exception as e:\n",
    "    print(e)\n",
    "    \n",
    "try:\n",
    "    if(c == 1):\n",
    "        print(add(a,b))\n",
    "    elif(c == 2):\n",
    "        print(subtract(a,b))\n",
    "    elif(c == 3):\n",
    "        print(multiply(a,b))\n",
    "    elif(c == 4):\n",
    "        print(divide(a,b))\n",
    "    else:\n",
    "        raise Exception(\"Wrong choice\")\n",
    "except(ZeroDivisionError) as e:\n",
    "    print(e)\n",
    "except Exception as e:\n",
    "    print(e)"
   ]
  },
  {
   "cell_type": "markdown",
   "metadata": {},
   "source": [
    "### Print one message if the try block raises a NameError and another for other errors"
   ]
  },
  {
   "cell_type": "code",
   "execution_count": 15,
   "metadata": {},
   "outputs": [
    {
     "name": "stdout",
     "output_type": "stream",
     "text": [
      "Choose 1 or 2: 1\n",
      "name 'x' is not defined\n"
     ]
    }
   ],
   "source": [
    "try:\n",
    "    m = int(input(\"Choose 1 or 2: \"))\n",
    "    if(m == 1):\n",
    "        print(x)\n",
    "    else:\n",
    "        print(2/0)\n",
    "except(NameError) as e:\n",
    "    print(e)\n",
    "except:\n",
    "    print(\"Some other error!\")"
   ]
  },
  {
   "cell_type": "markdown",
   "metadata": {},
   "source": [
    "### When try-except scenario is not required?"
   ]
  },
  {
   "cell_type": "markdown",
   "metadata": {},
   "source": [
    "if we want our program to stop running if it encounters an exception then try catch block must not be used"
   ]
  },
  {
   "cell_type": "markdown",
   "metadata": {},
   "source": [
    "### Try getting an input inside the try catch block"
   ]
  },
  {
   "cell_type": "code",
   "execution_count": 16,
   "metadata": {},
   "outputs": [
    {
     "name": "stdout",
     "output_type": "stream",
     "text": [
      "enter a number: a\n",
      "You didn't enter a number\n"
     ]
    }
   ],
   "source": [
    "try:\n",
    "    a = int(input(\"enter a number: \"))\n",
    "except:\n",
    "    print(\"You didn't enter a number\")"
   ]
  }
 ],
 "metadata": {
  "kernelspec": {
   "display_name": "Python 3",
   "language": "python",
   "name": "python3"
  },
  "language_info": {
   "codemirror_mode": {
    "name": "ipython",
    "version": 3
   },
   "file_extension": ".py",
   "mimetype": "text/x-python",
   "name": "python",
   "nbconvert_exporter": "python",
   "pygments_lexer": "ipython3",
   "version": "3.8.5"
  }
 },
 "nbformat": 4,
 "nbformat_minor": 4
}
