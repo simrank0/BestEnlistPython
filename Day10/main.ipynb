{
 "cells": [
  {
   "cell_type": "markdown",
   "metadata": {},
   "source": [
    "# Day 10: REGULAR EXPRESSION"
   ]
  },
  {
   "cell_type": "markdown",
   "metadata": {},
   "source": [
    "## Exercise:\n",
    "\n",
    "### Write a Python program for all the cases which can check a string contains only a certain set of characters (in this case a-z, A-Z and 0-9)."
   ]
  },
  {
   "cell_type": "code",
   "execution_count": 8,
   "metadata": {},
   "outputs": [
    {
     "name": "stdout",
     "output_type": "stream",
     "text": [
      "True\n",
      "False\n"
     ]
    }
   ],
   "source": [
    "import re\n",
    "def check(string):\n",
    "    r = re.compile(r'[^a-zA-Z0-9.]')\n",
    "    st = r.search(string)\n",
    "    return not bool(st)\n",
    "\n",
    "print(check(\"ABCabc123\")) \n",
    "print(check(\"Simran@!\"))"
   ]
  },
  {
   "cell_type": "markdown",
   "metadata": {},
   "source": [
    "### Write a Python program that matches a word containing 'ab'."
   ]
  },
  {
   "cell_type": "code",
   "execution_count": 13,
   "metadata": {},
   "outputs": [
    {
     "name": "stdout",
     "output_type": "stream",
     "text": [
      "Matched!\n",
      "Not matched!\n"
     ]
    }
   ],
   "source": [
    "import re\n",
    "def find(text):\n",
    "        pattern = '\\w*ab.\\w*'\n",
    "        if re.search(pattern,  text):\n",
    "                return 'Matched!'\n",
    "        else:\n",
    "                return('Not matched!')\n",
    "\n",
    "print(find(\"The abstract was absolutely amazing.\"))\n",
    "print(find(\"Even though anna said it wasn't.\"))"
   ]
  },
  {
   "cell_type": "markdown",
   "metadata": {},
   "source": [
    "### Write a Python program to check for a number at the end of a word/sentence."
   ]
  },
  {
   "cell_type": "code",
   "execution_count": 21,
   "metadata": {},
   "outputs": [
    {
     "name": "stdout",
     "output_type": "stream",
     "text": [
      "Matched!\n",
      "Not matched!\n"
     ]
    }
   ],
   "source": [
    "import re\n",
    "def find(text):\n",
    "        pattern = '\\w+\\d$'\n",
    "        if re.search(pattern,  text):\n",
    "                return 'Matched!'\n",
    "        else:\n",
    "                return('Not matched!')\n",
    "\n",
    "print(find(\"hell0\"))\n",
    "print(find(\"See u 2morrow\"))"
   ]
  },
  {
   "cell_type": "markdown",
   "metadata": {},
   "source": [
    "### Write a Python program to search the numbers (0-9) of length between 1 to 3 in a given string"
   ]
  },
  {
   "cell_type": "code",
   "execution_count": 76,
   "metadata": {},
   "outputs": [
    {
     "name": "stdout",
     "output_type": "stream",
     "text": [
      "None\n",
      "Matched!\n"
     ]
    }
   ],
   "source": [
    "import re\n",
    "def find(text):\n",
    "        results = re.finditer(r\"([0-9]{2,3})\", text)\n",
    "        for r in results:\n",
    "            if r != None:\n",
    "                return 'Matched!'\n",
    "\n",
    "print(find(\"hello\"))\n",
    "print(find(\"See u 23morrow\"))\n"
   ]
  },
  {
   "cell_type": "markdown",
   "metadata": {},
   "source": [
    "### Write a Python program to match a string that contains only uppercase letters"
   ]
  },
  {
   "cell_type": "code",
   "execution_count": 81,
   "metadata": {},
   "outputs": [
    {
     "name": "stdout",
     "output_type": "stream",
     "text": [
      "False\n",
      "True\n"
     ]
    }
   ],
   "source": [
    "import re\n",
    "def check(string):\n",
    "    r = re.compile(r'[^A-Z.]')\n",
    "    st = r.search(string)\n",
    "    return not bool(st)\n",
    "\n",
    "print(check(\"ABCabc123\")) \n",
    "print(check(\"SIMRAN\"))"
   ]
  }
 ],
 "metadata": {
  "kernelspec": {
   "display_name": "Python 3",
   "language": "python",
   "name": "python3"
  },
  "language_info": {
   "codemirror_mode": {
    "name": "ipython",
    "version": 3
   },
   "file_extension": ".py",
   "mimetype": "text/x-python",
   "name": "python",
   "nbconvert_exporter": "python",
   "pygments_lexer": "ipython3",
   "version": "3.8.5"
  }
 },
 "nbformat": 4,
 "nbformat_minor": 4
}
