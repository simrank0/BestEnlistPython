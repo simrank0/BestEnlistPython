{
 "cells": [
  {
   "cell_type": "markdown",
   "metadata": {},
   "source": [
    "# Day 3 – DICTIONARY, SETS"
   ]
  },
  {
   "cell_type": "markdown",
   "metadata": {},
   "source": [
    "# Dictionary:\n",
    "\n",
    "•\tPython provides another composite datatype called a dictionary, which is similar to a list in that it is a collection of objects.\n",
    "\n",
    "•\tA dictionary consists of a collection of key-value pairs. Each key-value pair maps the key to its associated value.\n",
    "\n",
    "•\tDictionary can be defined by enclosing a comma-separated list of key-value pairs in curly braces ({}). A colon (:) separates each key from its associated value\n",
    "\n",
    "dictionary = {<key>: <value>,\n",
    "\t\t<key>: <value>,}"
   ]
  },
  {
   "cell_type": "markdown",
   "metadata": {},
   "source": [
    "# Sets:\n",
    "\n",
    "•\tA set is a collection which is unordered and unindexed. In Python, sets are written with curly brackets.\n",
    "Example: CSK = {\"dhoni\", \"bravo\", \"jadeja\"}\n",
    "\n",
    "•\tSet cannot access items in a set by referring to an index or a key.\n",
    "\n",
    "•\tTo add one item to a set use the add() method& To add more than one item to a set use the update() method.\n",
    "\n",
    "•\tRemove an item in a set, use the remove(), or the discard() method.\n"
   ]
  },
  {
   "cell_type": "markdown",
   "metadata": {},
   "source": [
    "# Exercise:"
   ]
  },
  {
   "cell_type": "markdown",
   "metadata": {},
   "source": [
    "1) Write a Python script to merge two Python dictionaries"
   ]
  },
  {
   "cell_type": "code",
   "execution_count": 5,
   "metadata": {},
   "outputs": [
    {
     "name": "stdout",
     "output_type": "stream",
     "text": [
      "{'Maharashtra': 'Mumbai', 'Telangana': 'Hyderabad', 'Tamilnadu': 'Chennai', 'Karnataka': 'Bengaluru', 'Bihar': 'Patna'}\n"
     ]
    }
   ],
   "source": [
    "capitals1={\"Maharashtra\":\"Mumbai\", \n",
    "           \"Telangana\":\"Hyderabad\"}\n",
    "\n",
    "capitals2={\"Tamilnadu\":\"Chennai\", \n",
    "           \"Karnataka\":\"Bengaluru\", \n",
    "           \"Bihar\":\"Patna\"}\n",
    "capitals1.update(capitals2)\n",
    "print(capitals1)"
   ]
  },
  {
   "cell_type": "markdown",
   "metadata": {},
   "source": [
    "2)\tWrite a Python program to remove a key from a dictionary"
   ]
  },
  {
   "cell_type": "code",
   "execution_count": 6,
   "metadata": {},
   "outputs": [
    {
     "name": "stdout",
     "output_type": "stream",
     "text": [
      "{'Maharashtra': 'Mumbai', 'Telangana': 'Hyderabad', 'Karnataka': 'Bengaluru', 'Bihar': 'Patna'}\n"
     ]
    }
   ],
   "source": [
    "if 'Tamilnadu' in capitals1:\n",
    "    del capitals1['Tamilnadu']\n",
    "print(capitals1)"
   ]
  },
  {
   "cell_type": "markdown",
   "metadata": {},
   "source": [
    "3)\tWrite a Python program to map two lists into a dictionary"
   ]
  },
  {
   "cell_type": "code",
   "execution_count": 9,
   "metadata": {},
   "outputs": [
    {
     "name": "stdout",
     "output_type": "stream",
     "text": [
      "{'Morning': 'Morgen', 'Night': 'Nacht', 'Evening': 'Abend'}\n"
     ]
    }
   ],
   "source": [
    "keys = ['Morning', 'Night', 'Evening']\n",
    "values = ['Morgen','Nacht', 'Abend']\n",
    "german = dict(zip(keys, values))\n",
    "print(german)"
   ]
  },
  {
   "cell_type": "markdown",
   "metadata": {},
   "source": [
    "4)\tWrite a Python program to find the length of a set"
   ]
  },
  {
   "cell_type": "code",
   "execution_count": 10,
   "metadata": {},
   "outputs": [
    {
     "name": "stdout",
     "output_type": "stream",
     "text": [
      "The length of set is: 6\n"
     ]
    }
   ],
   "source": [
    "set1 = {1, 2, 3, 4, 5, 9} \n",
    "  \n",
    "print(\"The length of set is:\", len(set1)) "
   ]
  },
  {
   "cell_type": "markdown",
   "metadata": {},
   "source": [
    "5)\tWrite a Python program to remove the intersection of a 2nd set from the 1st set"
   ]
  },
  {
   "cell_type": "code",
   "execution_count": 11,
   "metadata": {},
   "outputs": [
    {
     "name": "stdout",
     "output_type": "stream",
     "text": [
      "{1, 2, 3}\n"
     ]
    }
   ],
   "source": [
    "set1 = {1, 2, 3, 4, 5}\n",
    "set2 = {4, 5, 6, 7}\n",
    "print(set1 - set2)"
   ]
  }
 ],
 "metadata": {
  "kernelspec": {
   "display_name": "Python 3",
   "language": "python",
   "name": "python3"
  },
  "language_info": {
   "codemirror_mode": {
    "name": "ipython",
    "version": 3
   },
   "file_extension": ".py",
   "mimetype": "text/x-python",
   "name": "python",
   "nbconvert_exporter": "python",
   "pygments_lexer": "ipython3",
   "version": "3.8.5"
  }
 },
 "nbformat": 4,
 "nbformat_minor": 4
}
