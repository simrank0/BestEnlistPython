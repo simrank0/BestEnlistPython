{
 "cells": [
  {
   "cell_type": "markdown",
   "metadata": {},
   "source": [
    "# Day 5– FUNCTIONS"
   ]
  },
  {
   "cell_type": "markdown",
   "metadata": {},
   "source": [
    "A function is a set of statements that take inputs, do some specific computation and produces output. The idea is to put some commonly or repeatedly done task together and make a function, so that instead of writing the same code again and again for different inputs, we can call the function."
   ]
  },
  {
   "cell_type": "markdown",
   "metadata": {},
   "source": [
    "# Exercise:"
   ]
  },
  {
   "cell_type": "markdown",
   "metadata": {},
   "source": [
    "#### 1. Create a function getting two integer inputs from user & print the following:\n",
    "\n",
    "Addition of two numbers is +value\n",
    "\n",
    "Subtraction of two numbers is +value\n",
    "\n",
    "Division of two numbers is +value\n",
    "\n",
    "Multiplication of two numbers is +value\n",
    "\n",
    "Here the value represents math function associated\n"
   ]
  },
  {
   "cell_type": "code",
   "execution_count": 2,
   "metadata": {},
   "outputs": [
    {
     "name": "stdout",
     "output_type": "stream",
     "text": [
      "Enter 1st number: 10\n",
      "Enter 2nd number: 5\n",
      "Addition of two numbers is: 15\n",
      "Subtraction of two numbers is: 5\n",
      "Division of two numbers is: 2\n",
      "Multiplication of two numbers is: 50\n"
     ]
    }
   ],
   "source": [
    "def func(x, y):\n",
    "    value = x + y\n",
    "    print(\"Addition of two numbers is:\", value)\n",
    "    value = x - y\n",
    "    print(\"Subtraction of two numbers is:\", value)\n",
    "    value = x//y\n",
    "    print(\"Division of two numbers is:\", value)\n",
    "    value = x*y\n",
    "    print(\"Multiplication of two numbers is:\", value)\n",
    "    \n",
    "x = int(input(\"Enter 1st number: \"))\n",
    "y = int(input(\"Enter 2nd number: \"))\n",
    "func(x, y)"
   ]
  },
  {
   "cell_type": "markdown",
   "metadata": {},
   "source": [
    "#### 2.Create a function covid( ) & it should accept patient name, and body temperature, by default the body temperature should be 98 degree"
   ]
  },
  {
   "cell_type": "code",
   "execution_count": 4,
   "metadata": {},
   "outputs": [
    {
     "name": "stdout",
     "output_type": "stream",
     "text": [
      "Sejal might not have covid\n",
      "Divanshu might have covid\n"
     ]
    }
   ],
   "source": [
    "def covid(name, temp):\n",
    "    if(temp>98):\n",
    "        print( name, \"might have covid\")\n",
    "    else:\n",
    "        print(name, \"might not have covid\")\n",
    "        \n",
    "covid(\"Sejal\", 97.6)\n",
    "covid(\"Divanshu\", 99)"
   ]
  }
 ],
 "metadata": {
  "kernelspec": {
   "display_name": "Python 3",
   "language": "python",
   "name": "python3"
  },
  "language_info": {
   "codemirror_mode": {
    "name": "ipython",
    "version": 3
   },
   "file_extension": ".py",
   "mimetype": "text/x-python",
   "name": "python",
   "nbconvert_exporter": "python",
   "pygments_lexer": "ipython3",
   "version": "3.8.5"
  }
 },
 "nbformat": 4,
 "nbformat_minor": 4
}
