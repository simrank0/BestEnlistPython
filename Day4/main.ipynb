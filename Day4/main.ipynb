{
 "cells": [
  {
   "cell_type": "markdown",
   "metadata": {},
   "source": [
    "# Day 4 – USER INPUTS, LISTS"
   ]
  },
  {
   "cell_type": "markdown",
   "metadata": {},
   "source": [
    "## User Input\n",
    "\n",
    "•\tThe input() function allows user input \n",
    "\n",
    "•\tYou can assign the user input to a variable\n",
    "\n",
    "## Lists\n",
    "\n",
    "•\tThe list type is a container that holds a number of other objects, in a given order\n",
    "\n",
    "•\tThe list type allows you to add and remove objects from the sequence.\n",
    "\n",
    "## Tuples\n",
    "\n",
    "•\tA tuple in Python is similar to a list. The difference between the two is that we cannot change the elements of a tuple once it is assigned whereas we can change the elements of a list.\n",
    "\n",
    "\n",
    "•\tA tuple can have any number of items and they may be of different types (integer, float, list, string, etc.).\n",
    "\n",
    "my_tuple = (1,2,3)\n",
    "print(my_tuple)\n",
    "\n",
    "\n",
    "•\tTuple with mixed datatypes:\n",
    "\n",
    "    my_tuple = (1, \"Hello\", 3.4)\n",
    "    print(my_tuple)\n"
   ]
  },
  {
   "cell_type": "markdown",
   "metadata": {},
   "source": [
    "# Exercise:"
   ]
  },
  {
   "cell_type": "markdown",
   "metadata": {},
   "source": [
    "## 1.\tWrite a program to create a list of n integer values and do the following\n",
    "•\tAdd an item in to the list (using function)\n",
    "\n",
    "•\tDelete (using function)\n",
    "\n",
    "•\tStore the largest number from the list to a variable\n",
    "\n",
    "•\tStore the Smallest number from the list to a variable\n"
   ]
  },
  {
   "cell_type": "code",
   "execution_count": 2,
   "metadata": {},
   "outputs": [
    {
     "name": "stdout",
     "output_type": "stream",
     "text": [
      "Enter the number of values in list: 5\n",
      "Add an integer in list: 7\n",
      "Enter item to be deleted: 3\n",
      "List:  [0, 1, 2, 4, 7]\n",
      "Smallest element in list:  0\n",
      "Largest element in list:  7\n"
     ]
    }
   ],
   "source": [
    "# Creating a list\n",
    "n = int(input(\"Enter the number of values in list: \"))\n",
    "l = []\n",
    "for i in range(n):\n",
    "    l.append(i)\n",
    "    \n",
    "# Adding item to list\n",
    "item = int(input(\"Add an integer in list: \"))\n",
    "l.append(item)\n",
    "\n",
    "# Deleting an item from list\n",
    "item = int(input(\"Enter item to be deleted: \"))\n",
    "if item in l:\n",
    "    l.remove(item)\n",
    "\n",
    "# Storing the largest value in list\n",
    "lo = min(l)\n",
    "hi = max(l)\n",
    "\n",
    "print(\"List: \", l)\n",
    "print(\"Smallest element in list: \", lo)\n",
    "print(\"Largest element in list: \", hi)"
   ]
  },
  {
   "cell_type": "markdown",
   "metadata": {},
   "source": [
    "## 2. Create a tuple and print the reverse of the created tuple"
   ]
  },
  {
   "cell_type": "code",
   "execution_count": 5,
   "metadata": {},
   "outputs": [
    {
     "name": "stdout",
     "output_type": "stream",
     "text": [
      "7.6 5 hey 9 (4+1j) "
     ]
    }
   ],
   "source": [
    "t = (1j+4, 9, \"hey\", 5, 7.6)\n",
    "i = len(t)-1\n",
    "while i>=0:\n",
    "    print(t[i], end=' ')\n",
    "    i-=1"
   ]
  },
  {
   "cell_type": "markdown",
   "metadata": {},
   "source": [
    "## 3. Create a tuple and convert tuple into list"
   ]
  },
  {
   "cell_type": "code",
   "execution_count": 7,
   "metadata": {},
   "outputs": [
    {
     "name": "stdout",
     "output_type": "stream",
     "text": [
      "[(4+1j), 9, 'hey', 5, 7.6]\n"
     ]
    }
   ],
   "source": [
    "t = (1j+4, 9, \"hey\", 5, 7.6)\n",
    "t = list(t)\n",
    "print(t)"
   ]
  }
 ],
 "metadata": {
  "kernelspec": {
   "display_name": "Python 3",
   "language": "python",
   "name": "python3"
  },
  "language_info": {
   "codemirror_mode": {
    "name": "ipython",
    "version": 3
   },
   "file_extension": ".py",
   "mimetype": "text/x-python",
   "name": "python",
   "nbconvert_exporter": "python",
   "pygments_lexer": "ipython3",
   "version": "3.8.5"
  }
 },
 "nbformat": 4,
 "nbformat_minor": 4
}
